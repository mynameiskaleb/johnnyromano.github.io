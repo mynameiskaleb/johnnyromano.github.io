{
 "cells": [
  {
   "cell_type": "code",
   "execution_count": 27,
   "metadata": {},
   "outputs": [],
   "source": [
    "import ephem\n",
    "import calendar\n",
    "from datetime import datetime\n",
    "\n",
    "from math import radians as rad, degrees as deg"
   ]
  },
  {
   "cell_type": "code",
   "execution_count": 20,
   "metadata": {},
   "outputs": [],
   "source": [
    "# set month key variables\n",
    "months = ('January','February','March','April','May','June', 'July','August','September','October','November','December')\n",
    "jan=0\n",
    "feb=1\n",
    "mar=2\n",
    "apr=3\n",
    "may=4\n",
    "jun=5\n",
    "jul=6\n",
    "aug=7\n",
    "sep=8\n",
    "oct=9\n",
    "nov=10\n",
    "dec=11"
   ]
  },
  {
   "cell_type": "code",
   "execution_count": 28,
   "metadata": {},
   "outputs": [],
   "source": [
    "# set year and month\n",
    "now = datetime.today()\n",
    "#year = now.year # for current year\n",
    "#month = now.month - 1 # for currnet month\n",
    "\n",
    "year=2018\n",
    "month=mar\n",
    "\n",
    "#print(month)\n"
   ]
  },
  {
   "cell_type": "code",
   "execution_count": 24,
   "metadata": {},
   "outputs": [],
   "source": [
    "# Find number of days per month of year\n",
    "days_per_month = {}\n",
    "dpm = days_per_month\n",
    "for i in range(0,12):\n",
    "    k = months[i]\n",
    "    v = monthrange(year, i+1)\n",
    "    days_per_month[i] = (k, v[1])\n",
    "# print(months[month], year)"
   ]
  },
  {
   "cell_type": "code",
   "execution_count": 29,
   "metadata": {},
   "outputs": [
    {
     "name": "stdout",
     "output_type": "stream",
     "text": [
      "Mar 1 2018 - 98.4\n",
      "Mar 2 2018 - 100.0\n",
      "Mar 3 2018 - 98.8\n",
      "Mar 4 2018 - 95.2\n",
      "Mar 5 2018 - 89.4\n",
      "Mar 6 2018 - 82.1\n",
      "Mar 7 2018 - 73.7\n",
      "Mar 8 2018 - 64.5\n",
      "Mar 9 2018 - 55.0\n",
      "Mar 10 2018 - 45.5\n",
      "Mar 11 2018 - 36.2\n",
      "Mar 12 2018 - 27.5\n",
      "Mar 13 2018 - 19.4\n",
      "Mar 14 2018 - 12.4\n",
      "Mar 15 2018 - 6.8\n",
      "Mar 16 2018 - 2.7\n",
      "Mar 17 2018 - 0.4\n",
      "Mar 18 2018 - 0.3\n",
      "Mar 19 2018 - 2.4\n",
      "Mar 20 2018 - 6.7\n",
      "Mar 21 2018 - 13.1\n",
      "Mar 22 2018 - 21.5\n",
      "Mar 23 2018 - 31.4\n",
      "Mar 24 2018 - 42.3\n",
      "Mar 25 2018 - 53.7\n",
      "Mar 26 2018 - 64.9\n",
      "Mar 27 2018 - 75.4\n",
      "Mar 28 2018 - 84.6\n",
      "Mar 29 2018 - 91.8\n",
      "Mar 30 2018 - 96.9\n",
      "Mar 31 2018 - 99.5\n"
     ]
    }
   ],
   "source": [
    "g = ephem.Observer()\n",
    "g.name = 'Los Angeles'\n",
    "g.lat=rad(34.0211)\n",
    "g.long=rad(-118.3965)\n",
    "\n",
    "m = ephem.Moon()\n",
    "i = 0\n",
    "days=1\n",
    "try:\n",
    "    for i in range(0, dpm[month][days]):\n",
    "            g.date = date(year,month+1, i+1)\n",
    "            g.date -= ephem.hour\n",
    "            m.compute(g)\n",
    "            print(dpm[month][0][:3],i+1, year,\"- \" \"%.1f\" % m.phase)\n",
    "except ValueError:\n",
    "    if i > dpm[month][days]:\n",
    "        i - 1\n",
    "        print('error')"
   ]
  }
 ],
 "metadata": {
  "kernelspec": {
   "display_name": "Python 3",
   "language": "python",
   "name": "python3"
  },
  "language_info": {
   "codemirror_mode": {
    "name": "ipython",
    "version": 3
   },
   "file_extension": ".py",
   "mimetype": "text/x-python",
   "name": "python",
   "nbconvert_exporter": "python",
   "pygments_lexer": "ipython3",
   "version": "3.6.4"
  }
 },
 "nbformat": 4,
 "nbformat_minor": 2
}
